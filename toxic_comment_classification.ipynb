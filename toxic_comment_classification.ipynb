{
  "nbformat": 4,
  "nbformat_minor": 0,
  "metadata": {
    "colab": {
      "name": "toxic-comment-classification.ipynb",
      "provenance": [],
      "include_colab_link": true
    },
    "kernelspec": {
      "name": "python3",
      "display_name": "Python 3"
    },
    "accelerator": "GPU"
  },
  "cells": [
    {
      "cell_type": "markdown",
      "metadata": {
        "id": "view-in-github",
        "colab_type": "text"
      },
      "source": [
        "<a href=\"https://colab.research.google.com/github/taniyasinghsisodia/Deep-Learning-Projects/blob/master/toxic_comment_classification.ipynb\" target=\"_parent\"><img src=\"https://colab.research.google.com/assets/colab-badge.svg\" alt=\"Open In Colab\"/></a>"
      ]
    },
    {
      "cell_type": "code",
      "metadata": {
        "id": "ErV8ifJRu5IV",
        "colab_type": "code",
        "colab": {
          "base_uri": "https://localhost:8080/",
          "height": 237
        },
        "outputId": "b1149073-cb6d-4842-9e3e-1eecafff42c9"
      },
      "source": [
        "!wget --header=\"Host: storage.googleapis.com\" --header=\"User-Agent: Mozilla/5.0 (Windows NT 10.0; Win64; x64) AppleWebKit/537.36 (KHTML, like Gecko) Chrome/84.0.4147.89 Safari/537.36\" --header=\"Accept: text/html,application/xhtml+xml,application/xml;q=0.9,image/webp,image/apng,*/*;q=0.8,application/signed-exchange;v=b3;q=0.9\" --header=\"Accept-Language: en-IN,en-GB;q=0.9,en-US;q=0.8,en;q=0.7,hi;q=0.6\" --header=\"Referer: https://www.kaggle.com/\" \"https://storage.googleapis.com/kaggle-competitions-data/kaggle-v2/8076/44219/bundle/archive.zip?GoogleAccessId=web-data@kaggle-161607.iam.gserviceaccount.com&Expires=1596255382&Signature=OyqPTpWiRMkeil%2BeeBU%2B7gYhx5vabsHgTt4TV51AUzTIR7WXwrtD3pySbiHlbqZ30rtHQWyHwMzTy%2B7ih71umAM2eCDCAjkHX8TmxaHiV3X14u6gkqLlzDDIfMQOc8XOK3mQ2C6PgsdElyp0KZ0gEAp8wNDM%2BydoIygSBJ3CE2yDXZLLk%2FF0Q7BOee8CbFvjL06sR9rgIFtG8l%2BrQk1f8ndguxAuDfSODLnqVcTciD74Yw7rYbT1jJrBFAFl%2FuZfFevLSYlGqxvdbDvzlk1XQ3iy6l8KHv289geE8bQM26PT2Q2fF39yuWMugge4%2FL9E7kJtSgkPehlnm0azNX5msQ%3D%3D&response-content-disposition=attachment%3B+filename%3Djigsaw-toxic-comment-classification-challenge.zip\" -c -O 'jigsaw-toxic-comment-classification-challenge.zip'"
      ],
      "execution_count": null,
      "outputs": [
        {
          "output_type": "stream",
          "text": [
            "--2020-07-29 04:16:39--  https://storage.googleapis.com/kaggle-competitions-data/kaggle-v2/8076/44219/bundle/archive.zip?GoogleAccessId=web-data@kaggle-161607.iam.gserviceaccount.com&Expires=1596255382&Signature=OyqPTpWiRMkeil%2BeeBU%2B7gYhx5vabsHgTt4TV51AUzTIR7WXwrtD3pySbiHlbqZ30rtHQWyHwMzTy%2B7ih71umAM2eCDCAjkHX8TmxaHiV3X14u6gkqLlzDDIfMQOc8XOK3mQ2C6PgsdElyp0KZ0gEAp8wNDM%2BydoIygSBJ3CE2yDXZLLk%2FF0Q7BOee8CbFvjL06sR9rgIFtG8l%2BrQk1f8ndguxAuDfSODLnqVcTciD74Yw7rYbT1jJrBFAFl%2FuZfFevLSYlGqxvdbDvzlk1XQ3iy6l8KHv289geE8bQM26PT2Q2fF39yuWMugge4%2FL9E7kJtSgkPehlnm0azNX5msQ%3D%3D&response-content-disposition=attachment%3B+filename%3Djigsaw-toxic-comment-classification-challenge.zip\n",
            "Resolving storage.googleapis.com (storage.googleapis.com)... 74.125.20.128, 74.125.142.128, 74.125.195.128, ...\n",
            "Connecting to storage.googleapis.com (storage.googleapis.com)|74.125.20.128|:443... connected.\n",
            "HTTP request sent, awaiting response... 200 OK\n",
            "Length: 55201987 (53M) [application/zip]\n",
            "Saving to: ‘jigsaw-toxic-comment-classification-challenge.zip’\n",
            "\n",
            "\r          jigsaw-to   0%[                    ]       0  --.-KB/s               \r         jigsaw-tox   8%[>                   ]   4.41M  22.0MB/s               \r        jigsaw-toxi  49%[========>           ]  26.07M  65.2MB/s               \rjigsaw-toxic-commen 100%[===================>]  52.64M  88.5MB/s    in 0.6s    \n",
            "\n",
            "2020-07-29 04:16:40 (88.5 MB/s) - ‘jigsaw-toxic-comment-classification-challenge.zip’ saved [55201987/55201987]\n",
            "\n"
          ],
          "name": "stdout"
        }
      ]
    },
    {
      "cell_type": "code",
      "metadata": {
        "id": "SHBeuNU1yUxu",
        "colab_type": "code",
        "colab": {
          "base_uri": "https://localhost:8080/",
          "height": 108
        },
        "outputId": "5c617677-d3b9-4989-d715-b6f961a8e727"
      },
      "source": [
        "!unzip jigsaw-toxic-comment-classification-challenge.zip"
      ],
      "execution_count": null,
      "outputs": [
        {
          "output_type": "stream",
          "text": [
            "Archive:  jigsaw-toxic-comment-classification-challenge.zip\n",
            "  inflating: sample_submission.csv.zip  \n",
            "  inflating: test.csv.zip            \n",
            "  inflating: test_labels.csv.zip     \n",
            "  inflating: train.csv.zip           \n"
          ],
          "name": "stdout"
        }
      ]
    },
    {
      "cell_type": "code",
      "metadata": {
        "id": "9h0a7_BVyg4d",
        "colab_type": "code",
        "colab": {
          "base_uri": "https://localhost:8080/",
          "height": 308
        },
        "outputId": "e97a9abb-b44a-4dc1-be92-f30df485820d"
      },
      "source": [
        "! wget https://nlp.stanford.edu/data/glove.6B.zip"
      ],
      "execution_count": null,
      "outputs": [
        {
          "output_type": "stream",
          "text": [
            "--2020-07-29 04:17:58--  https://nlp.stanford.edu/data/glove.6B.zip\n",
            "Resolving nlp.stanford.edu (nlp.stanford.edu)... 171.64.67.140\n",
            "Connecting to nlp.stanford.edu (nlp.stanford.edu)|171.64.67.140|:443... connected.\n",
            "HTTP request sent, awaiting response... 301 Moved Permanently\n",
            "Location: http://downloads.cs.stanford.edu/nlp/data/glove.6B.zip [following]\n",
            "--2020-07-29 04:17:58--  http://downloads.cs.stanford.edu/nlp/data/glove.6B.zip\n",
            "Resolving downloads.cs.stanford.edu (downloads.cs.stanford.edu)... 171.64.64.22\n",
            "Connecting to downloads.cs.stanford.edu (downloads.cs.stanford.edu)|171.64.64.22|:80... connected.\n",
            "HTTP request sent, awaiting response... 200 OK\n",
            "Length: 862182613 (822M) [application/zip]\n",
            "Saving to: ‘glove.6B.zip’\n",
            "\n",
            "glove.6B.zip        100%[===================>] 822.24M  2.07MB/s    in 6m 26s  \n",
            "\n",
            "2020-07-29 04:24:24 (2.13 MB/s) - ‘glove.6B.zip’ saved [862182613/862182613]\n",
            "\n"
          ],
          "name": "stdout"
        }
      ]
    },
    {
      "cell_type": "code",
      "metadata": {
        "id": "p-gXB0o-yoib",
        "colab_type": "code",
        "colab": {}
      },
      "source": [
        "import zipfile\n",
        "zip_ref = zipfile.ZipFile(\"glove.6B.zip\", 'r')\n",
        "zip_ref.extractall(\"glove\")\n",
        "zip_ref.close()"
      ],
      "execution_count": null,
      "outputs": []
    },
    {
      "cell_type": "code",
      "metadata": {
        "id": "imksT9sC2cle",
        "colab_type": "code",
        "colab": {}
      },
      "source": [
        "import pandas as pd\n",
        "import numpy as np\n",
        "import matplotlib.pyplot as plt\n",
        "import tensorflow as tf\n",
        "from sklearn.metrics import roc_auc_score"
      ],
      "execution_count": null,
      "outputs": []
    },
    {
      "cell_type": "code",
      "metadata": {
        "id": "NeTGYhjp2vU7",
        "colab_type": "code",
        "colab": {}
      },
      "source": [
        "MAX_SEQUENCE_LENGTH = 100\n",
        "MAX_VOCAB_SIZE = 20000\n",
        "EMBEDDING_DIM = 100\n",
        "VALIDATION_SPLIT = 0.2\n",
        "BATCH_SIZE = 128\n",
        "EPOCHS = 10"
      ],
      "execution_count": null,
      "outputs": []
    },
    {
      "cell_type": "code",
      "metadata": {
        "id": "x9ukNgQ-223M",
        "colab_type": "code",
        "colab": {
          "base_uri": "https://localhost:8080/",
          "height": 35
        },
        "outputId": "28b83936-5cd9-4596-be4d-ed11a2384c0f"
      },
      "source": [
        "word2vec = {}\n",
        "with open(\"glove/glove.6B.100d.txt\") as f:\n",
        "  \n",
        "  for line in f:\n",
        "    \n",
        "    values = line.split()\n",
        "    word = values[0]\n",
        "    \n",
        "    vec = np.asarray(values[1:],dtype=\"float32\")\n",
        "    word2vec[word] = vec\n",
        "    \n",
        "print(\"Found %s word vectors.\" % len(word2vec))"
      ],
      "execution_count": null,
      "outputs": [
        {
          "output_type": "stream",
          "text": [
            "Found 400000 word vectors.\n"
          ],
          "name": "stdout"
        }
      ]
    },
    {
      "cell_type": "code",
      "metadata": {
        "id": "1AchjePg252L",
        "colab_type": "code",
        "colab": {
          "base_uri": "https://localhost:8080/",
          "height": 198
        },
        "outputId": "aee7d405-26df-453d-fc31-b71ffe54b9c2"
      },
      "source": [
        "train = pd.read_csv(\"train.csv\")\n",
        "train.head()"
      ],
      "execution_count": null,
      "outputs": [
        {
          "output_type": "execute_result",
          "data": {
            "text/html": [
              "<div>\n",
              "<style scoped>\n",
              "    .dataframe tbody tr th:only-of-type {\n",
              "        vertical-align: middle;\n",
              "    }\n",
              "\n",
              "    .dataframe tbody tr th {\n",
              "        vertical-align: top;\n",
              "    }\n",
              "\n",
              "    .dataframe thead th {\n",
              "        text-align: right;\n",
              "    }\n",
              "</style>\n",
              "<table border=\"1\" class=\"dataframe\">\n",
              "  <thead>\n",
              "    <tr style=\"text-align: right;\">\n",
              "      <th></th>\n",
              "      <th>id</th>\n",
              "      <th>comment_text</th>\n",
              "      <th>toxic</th>\n",
              "      <th>severe_toxic</th>\n",
              "      <th>obscene</th>\n",
              "      <th>threat</th>\n",
              "      <th>insult</th>\n",
              "      <th>identity_hate</th>\n",
              "    </tr>\n",
              "  </thead>\n",
              "  <tbody>\n",
              "    <tr>\n",
              "      <th>0</th>\n",
              "      <td>0000997932d777bf</td>\n",
              "      <td>Explanation\\nWhy the edits made under my usern...</td>\n",
              "      <td>0</td>\n",
              "      <td>0</td>\n",
              "      <td>0</td>\n",
              "      <td>0</td>\n",
              "      <td>0</td>\n",
              "      <td>0</td>\n",
              "    </tr>\n",
              "    <tr>\n",
              "      <th>1</th>\n",
              "      <td>000103f0d9cfb60f</td>\n",
              "      <td>D'aww! He matches this background colour I'm s...</td>\n",
              "      <td>0</td>\n",
              "      <td>0</td>\n",
              "      <td>0</td>\n",
              "      <td>0</td>\n",
              "      <td>0</td>\n",
              "      <td>0</td>\n",
              "    </tr>\n",
              "    <tr>\n",
              "      <th>2</th>\n",
              "      <td>000113f07ec002fd</td>\n",
              "      <td>Hey man, I'm really not trying to edit war. It...</td>\n",
              "      <td>0</td>\n",
              "      <td>0</td>\n",
              "      <td>0</td>\n",
              "      <td>0</td>\n",
              "      <td>0</td>\n",
              "      <td>0</td>\n",
              "    </tr>\n",
              "    <tr>\n",
              "      <th>3</th>\n",
              "      <td>0001b41b1c6bb37e</td>\n",
              "      <td>\"\\nMore\\nI can't make any real suggestions on ...</td>\n",
              "      <td>0</td>\n",
              "      <td>0</td>\n",
              "      <td>0</td>\n",
              "      <td>0</td>\n",
              "      <td>0</td>\n",
              "      <td>0</td>\n",
              "    </tr>\n",
              "    <tr>\n",
              "      <th>4</th>\n",
              "      <td>0001d958c54c6e35</td>\n",
              "      <td>You, sir, are my hero. Any chance you remember...</td>\n",
              "      <td>0</td>\n",
              "      <td>0</td>\n",
              "      <td>0</td>\n",
              "      <td>0</td>\n",
              "      <td>0</td>\n",
              "      <td>0</td>\n",
              "    </tr>\n",
              "  </tbody>\n",
              "</table>\n",
              "</div>"
            ],
            "text/plain": [
              "                 id  ... identity_hate\n",
              "0  0000997932d777bf  ...             0\n",
              "1  000103f0d9cfb60f  ...             0\n",
              "2  000113f07ec002fd  ...             0\n",
              "3  0001b41b1c6bb37e  ...             0\n",
              "4  0001d958c54c6e35  ...             0\n",
              "\n",
              "[5 rows x 8 columns]"
            ]
          },
          "metadata": {
            "tags": []
          },
          "execution_count": 9
        }
      ]
    },
    {
      "cell_type": "code",
      "metadata": {
        "id": "UvlBLAUu3ArM",
        "colab_type": "code",
        "colab": {
          "base_uri": "https://localhost:8080/",
          "height": 183
        },
        "outputId": "59f224a8-40c8-4908-d714-800df4ee3125"
      },
      "source": [
        "sentences = train[\"comment_text\"].fillna(\"DUMMY_VALUES\").values\n",
        "sentences"
      ],
      "execution_count": null,
      "outputs": [
        {
          "output_type": "execute_result",
          "data": {
            "text/plain": [
              "array([\"Explanation\\nWhy the edits made under my username Hardcore Metallica Fan were reverted? They weren't vandalisms, just closure on some GAs after I voted at New York Dolls FAC. And please don't remove the template from the talk page since I'm retired now.89.205.38.27\",\n",
              "       \"D'aww! He matches this background colour I'm seemingly stuck with. Thanks.  (talk) 21:51, January 11, 2016 (UTC)\",\n",
              "       \"Hey man, I'm really not trying to edit war. It's just that this guy is constantly removing relevant information and talking to me through edits instead of my talk page. He seems to care more about the formatting than the actual info.\",\n",
              "       ...,\n",
              "       'Spitzer \\n\\nUmm, theres no actual article for prostitution ring.  - Crunch Captain.',\n",
              "       'And it looks like it was actually you who put on the speedy to have the first version deleted now that I look at it.',\n",
              "       '\"\\nAnd ... I really don\\'t think you understand.  I came here and my idea was bad right away.  What kind of community goes \"\"you have bad ideas\"\" go away, instead of helping rewrite them.   \"'],\n",
              "      dtype=object)"
            ]
          },
          "metadata": {
            "tags": []
          },
          "execution_count": 10
        }
      ]
    },
    {
      "cell_type": "code",
      "metadata": {
        "id": "peoI5HXK3DFD",
        "colab_type": "code",
        "colab": {
          "base_uri": "https://localhost:8080/",
          "height": 35
        },
        "outputId": "97d65a22-9df7-408d-9e4c-46c0206bc795"
      },
      "source": [
        "sentences.shape"
      ],
      "execution_count": null,
      "outputs": [
        {
          "output_type": "execute_result",
          "data": {
            "text/plain": [
              "(159571,)"
            ]
          },
          "metadata": {
            "tags": []
          },
          "execution_count": 11
        }
      ]
    },
    {
      "cell_type": "code",
      "metadata": {
        "id": "c3Agpu0E3FYs",
        "colab_type": "code",
        "colab": {}
      },
      "source": [
        "possible_labels = [\"toxic\",\"severe_toxic\",\"obscene\",\"threat\",\"insult\",\"identity_hate\"]"
      ],
      "execution_count": null,
      "outputs": []
    },
    {
      "cell_type": "code",
      "metadata": {
        "id": "jLXEo4lC3H7L",
        "colab_type": "code",
        "colab": {}
      },
      "source": [
        "targets = train[possible_labels].values"
      ],
      "execution_count": null,
      "outputs": []
    },
    {
      "cell_type": "code",
      "metadata": {
        "id": "P6r-iZiQ3KQL",
        "colab_type": "code",
        "colab": {
          "base_uri": "https://localhost:8080/",
          "height": 54
        },
        "outputId": "a5d44b63-e7c3-4ba9-9de4-c528b051d750"
      },
      "source": [
        "print(\"max sequence length:\", max(len(s) for s in sentences))\n",
        "print(\"min sequence length:\", min(len(s) for s in sentences))"
      ],
      "execution_count": null,
      "outputs": [
        {
          "output_type": "stream",
          "text": [
            "max sequence length: 5000\n",
            "min sequence length: 6\n"
          ],
          "name": "stdout"
        }
      ]
    },
    {
      "cell_type": "code",
      "metadata": {
        "id": "SCaVF1e-3NMb",
        "colab_type": "code",
        "colab": {}
      },
      "source": [
        "s = sorted(len(s) for s in sentences)"
      ],
      "execution_count": null,
      "outputs": []
    },
    {
      "cell_type": "code",
      "metadata": {
        "id": "lr-qrSpO3QkL",
        "colab_type": "code",
        "colab": {}
      },
      "source": [
        "tokenizer = tf.keras.preprocessing.text.Tokenizer(num_words = MAX_VOCAB_SIZE)"
      ],
      "execution_count": null,
      "outputs": []
    },
    {
      "cell_type": "code",
      "metadata": {
        "id": "vJ1Tmq0G3U9c",
        "colab_type": "code",
        "colab": {}
      },
      "source": [
        "tokenizer.fit_on_texts(sentences)\n",
        "sequences = tokenizer.texts_to_sequences(sentences)"
      ],
      "execution_count": null,
      "outputs": []
    },
    {
      "cell_type": "code",
      "metadata": {
        "id": "n5p83aaP3bSr",
        "colab_type": "code",
        "colab": {}
      },
      "source": [
        "# get word -> integer mapping\n",
        "word2idx = tokenizer.word_index"
      ],
      "execution_count": null,
      "outputs": []
    },
    {
      "cell_type": "code",
      "metadata": {
        "id": "RWgfJ4bO3jlC",
        "colab_type": "code",
        "colab": {
          "base_uri": "https://localhost:8080/",
          "height": 35
        },
        "outputId": "1d3ed3e9-bbfe-4f9c-a3c7-15b0ee6b1722"
      },
      "source": [
        "len(word2idx)"
      ],
      "execution_count": null,
      "outputs": [
        {
          "output_type": "execute_result",
          "data": {
            "text/plain": [
              "210337"
            ]
          },
          "metadata": {
            "tags": []
          },
          "execution_count": 21
        }
      ]
    },
    {
      "cell_type": "code",
      "metadata": {
        "id": "0-wLo8BX3mJj",
        "colab_type": "code",
        "colab": {}
      },
      "source": [
        "# pad sequences so that we get N x T matrix\n",
        "\n",
        "data = tf.keras.preprocessing.sequence.pad_sequences(sequences, maxlen=MAX_SEQUENCE_LENGTH)"
      ],
      "execution_count": null,
      "outputs": []
    },
    {
      "cell_type": "code",
      "metadata": {
        "id": "Ik0-mpLB3mCD",
        "colab_type": "code",
        "colab": {
          "base_uri": "https://localhost:8080/",
          "height": 35
        },
        "outputId": "b0290489-15f2-4bd2-fff1-511f16ed58ef"
      },
      "source": [
        "data.shape"
      ],
      "execution_count": null,
      "outputs": [
        {
          "output_type": "execute_result",
          "data": {
            "text/plain": [
              "(159571, 100)"
            ]
          },
          "metadata": {
            "tags": []
          },
          "execution_count": 24
        }
      ]
    },
    {
      "cell_type": "code",
      "metadata": {
        "id": "2_-LS7RK3t7r",
        "colab_type": "code",
        "colab": {
          "base_uri": "https://localhost:8080/",
          "height": 145
        },
        "outputId": "a1150335-0ac2-49f9-8c0f-f1aa158811a4"
      },
      "source": [
        "data"
      ],
      "execution_count": null,
      "outputs": [
        {
          "output_type": "execute_result",
          "data": {
            "text/plain": [
              "array([[    0,     0,     0, ...,  4583,  2273,   985],\n",
              "       [    0,     0,     0, ...,   589,  8377,   182],\n",
              "       [    0,     0,     0, ...,     1,   737,   468],\n",
              "       ...,\n",
              "       [    0,     0,     0, ...,  3509, 13675,  4528],\n",
              "       [    0,     0,     0, ...,   151,    34,    11],\n",
              "       [    0,     0,     0, ...,  1627,  2056,    88]], dtype=int32)"
            ]
          },
          "metadata": {
            "tags": []
          },
          "execution_count": 25
        }
      ]
    },
    {
      "cell_type": "code",
      "metadata": {
        "id": "j5OxTWl-3w3L",
        "colab_type": "code",
        "colab": {
          "base_uri": "https://localhost:8080/",
          "height": 35
        },
        "outputId": "4301c8ba-e715-4b9a-f163-71096367cf21"
      },
      "source": [
        "# prepare our embedding matrix\n",
        "\n",
        "num_words = min(MAX_VOCAB_SIZE,len(word2idx)+1)\n",
        "num_words"
      ],
      "execution_count": null,
      "outputs": [
        {
          "output_type": "execute_result",
          "data": {
            "text/plain": [
              "20000"
            ]
          },
          "metadata": {
            "tags": []
          },
          "execution_count": 26
        }
      ]
    },
    {
      "cell_type": "code",
      "metadata": {
        "id": "Id8xYjtu34K7",
        "colab_type": "code",
        "colab": {}
      },
      "source": [
        "embedding_matrix = np.zeros((num_words,EMBEDDING_DIM))"
      ],
      "execution_count": null,
      "outputs": []
    },
    {
      "cell_type": "code",
      "metadata": {
        "id": "_QDM6ojf37z7",
        "colab_type": "code",
        "colab": {}
      },
      "source": [
        "for word, i in word2idx.items():\n",
        "  \n",
        "  if i < MAX_VOCAB_SIZE:\n",
        "    \n",
        "    \n",
        "    embedding_vector = word2vec.get(word)\n",
        "    if embedding_vector is not None:\n",
        "      \n",
        "      embedding_matrix[i] = embedding_vector"
      ],
      "execution_count": null,
      "outputs": []
    },
    {
      "cell_type": "code",
      "metadata": {
        "id": "WHMZfmLi3-Ra",
        "colab_type": "code",
        "colab": {
          "base_uri": "https://localhost:8080/",
          "height": 254
        },
        "outputId": "7ac2e0b9-f6bb-471b-c1ed-9993fe777d06"
      },
      "source": [
        "embedding_matrix"
      ],
      "execution_count": null,
      "outputs": [
        {
          "output_type": "execute_result",
          "data": {
            "text/plain": [
              "array([[ 0.        ,  0.        ,  0.        , ...,  0.        ,\n",
              "         0.        ,  0.        ],\n",
              "       [-0.038194  , -0.24487001,  0.72812003, ..., -0.1459    ,\n",
              "         0.82779998,  0.27061999],\n",
              "       [-0.18970001,  0.050024  ,  0.19084001, ..., -0.39804   ,\n",
              "         0.47646999, -0.15983   ],\n",
              "       ...,\n",
              "       [-1.04809999, -0.32789999, -0.46593001, ..., -0.065447  ,\n",
              "        -0.13019   ,  0.44433001],\n",
              "       [ 0.089782  , -0.33164999, -0.85716999, ..., -0.15765999,\n",
              "        -0.58174002,  0.036233  ],\n",
              "       [ 0.051446  , -0.43564001,  0.26989001, ...,  0.39087   ,\n",
              "        -0.14459001, -0.72372001]])"
            ]
          },
          "metadata": {
            "tags": []
          },
          "execution_count": 29
        }
      ]
    },
    {
      "cell_type": "code",
      "metadata": {
        "id": "FszNhDt34AEq",
        "colab_type": "code",
        "colab": {
          "base_uri": "https://localhost:8080/",
          "height": 35
        },
        "outputId": "f0f7b75b-7bc5-44df-ac9d-5e2a92e77513"
      },
      "source": [
        "embedding_matrix.shape"
      ],
      "execution_count": null,
      "outputs": [
        {
          "output_type": "execute_result",
          "data": {
            "text/plain": [
              "(20000, 100)"
            ]
          },
          "metadata": {
            "tags": []
          },
          "execution_count": 30
        }
      ]
    },
    {
      "cell_type": "code",
      "metadata": {
        "id": "y088lKvX4Bvb",
        "colab_type": "code",
        "colab": {}
      },
      "source": [
        "embedding_layer = tf.keras.layers.Embedding(num_words,EMBEDDING_DIM,\n",
        "                           weights = [embedding_matrix],\n",
        "                           input_length = MAX_SEQUENCE_LENGTH,\n",
        "                           trainable=False)"
      ],
      "execution_count": null,
      "outputs": []
    },
    {
      "cell_type": "code",
      "metadata": {
        "id": "APs0Y3yl4G2q",
        "colab_type": "code",
        "colab": {
          "base_uri": "https://localhost:8080/",
          "height": 381
        },
        "outputId": "844e12b8-f084-4fcd-b7ca-4ac8617263fc"
      },
      "source": [
        "input_ = tf.keras.layers.Input(shape=(MAX_SEQUENCE_LENGTH,))\n",
        "x = embedding_layer(input_)\n",
        "x = tf.keras.layers.Conv1D(128,3,activation=\"relu\")(x)\n",
        "x = tf.keras.layers.MaxPooling1D(3)(x)\n",
        "x = tf.keras.layers.Conv1D(128,3,activation=\"relu\")(x)\n",
        "x = tf.keras.layers.MaxPooling1D(3)(x)\n",
        "x = tf.keras.layers.Conv1D(128,3,activation=\"relu\")(x)\n",
        "x = tf.keras.layers.GlobalAveragePooling1D()(x)\n",
        "x = tf.keras.layers.Dense(128,activation=\"relu\")(x)\n",
        "\n",
        "output = tf.keras.layers.Dense(len(possible_labels),activation=\"sigmoid\")(x)\n",
        "\n",
        "model = tf.keras.models.Model(input_,output)\n",
        "\n",
        "model.compile(loss=\"binary_crossentropy\",\n",
        "             optimizer=\"rmsprop\",\n",
        "             metrics=[\"accuracy\"])\n",
        "\n",
        "r = model.fit(data,targets,batch_size=BATCH_SIZE,epochs=EPOCHS,validation_split=VALIDATION_SPLIT)"
      ],
      "execution_count": null,
      "outputs": [
        {
          "output_type": "stream",
          "text": [
            "Epoch 1/10\n",
            "998/998 [==============================] - 7s 7ms/step - loss: 0.0875 - accuracy: 0.9777 - val_loss: 0.0704 - val_accuracy: 0.9941\n",
            "Epoch 2/10\n",
            "998/998 [==============================] - 7s 7ms/step - loss: 0.0681 - accuracy: 0.9891 - val_loss: 0.0680 - val_accuracy: 0.8843\n",
            "Epoch 3/10\n",
            "998/998 [==============================] - 7s 7ms/step - loss: 0.0635 - accuracy: 0.9903 - val_loss: 0.0735 - val_accuracy: 0.9940\n",
            "Epoch 4/10\n",
            "998/998 [==============================] - 7s 7ms/step - loss: 0.0603 - accuracy: 0.9931 - val_loss: 0.0749 - val_accuracy: 0.9941\n",
            "Epoch 5/10\n",
            "998/998 [==============================] - 7s 7ms/step - loss: 0.0578 - accuracy: 0.9919 - val_loss: 0.0706 - val_accuracy: 0.9824\n",
            "Epoch 6/10\n",
            "998/998 [==============================] - 7s 7ms/step - loss: 0.0555 - accuracy: 0.9930 - val_loss: 0.0730 - val_accuracy: 0.9941\n",
            "Epoch 7/10\n",
            "998/998 [==============================] - 7s 7ms/step - loss: 0.0531 - accuracy: 0.9928 - val_loss: 0.0745 - val_accuracy: 0.9941\n",
            "Epoch 8/10\n",
            "998/998 [==============================] - 7s 7ms/step - loss: 0.0513 - accuracy: 0.9931 - val_loss: 0.0738 - val_accuracy: 0.9935\n",
            "Epoch 9/10\n",
            "998/998 [==============================] - 7s 7ms/step - loss: 0.0492 - accuracy: 0.9928 - val_loss: 0.0891 - val_accuracy: 0.9929\n",
            "Epoch 10/10\n",
            "998/998 [==============================] - 7s 7ms/step - loss: 0.0478 - accuracy: 0.9929 - val_loss: 0.0932 - val_accuracy: 0.9938\n"
          ],
          "name": "stdout"
        }
      ]
    },
    {
      "cell_type": "code",
      "metadata": {
        "id": "lGy3P4Ha5IZS",
        "colab_type": "code",
        "colab": {
          "base_uri": "https://localhost:8080/",
          "height": 265
        },
        "outputId": "ba5151d3-cfce-417a-8f90-ef4775d846c4"
      },
      "source": [
        "# plot some data\n",
        "plt.plot(r.history['loss'], label='loss')\n",
        "plt.plot(r.history['val_loss'], label='val_loss')\n",
        "plt.legend()\n",
        "plt.show()\n"
      ],
      "execution_count": null,
      "outputs": [
        {
          "output_type": "display_data",
          "data": {
            "image/png": "[encoded data removed]",
            "text/plain": [
              "<Figure size 432x288 with 1 Axes>"
            ]
          },
          "metadata": {
            "tags": [],
            "needs_background": "light"
          }
        }
      ]
    },
    {
      "cell_type": "code",
      "metadata": {
        "id": "-A4hDxIp5R6c",
        "colab_type": "code",
        "colab": {
          "base_uri": "https://localhost:8080/",
          "height": 745
        },
        "outputId": "28c09561-f9e3-4431-ed39-ae1d4df53c33"
      },
      "source": [
        "r.history"
      ],
      "execution_count": null,
      "outputs": [
        {
          "output_type": "execute_result",
          "data": {
            "text/plain": [
              "{'accuracy': [0.9776900410652161,\n",
              "  0.9891035556793213,\n",
              "  0.9902785420417786,\n",
              "  0.9931378364562988,\n",
              "  0.9918844103813171,\n",
              "  0.9929733276367188,\n",
              "  0.9927774667739868,\n",
              "  0.993106484413147,\n",
              "  0.9927931427955627,\n",
              "  0.992863655090332],\n",
              " 'loss': [0.0875086709856987,\n",
              "  0.06809491664171219,\n",
              "  0.06354719400405884,\n",
              "  0.06028524041175842,\n",
              "  0.05782127007842064,\n",
              "  0.05547407642006874,\n",
              "  0.053145553916692734,\n",
              "  0.051290709525346756,\n",
              "  0.04919032007455826,\n",
              "  0.047821030020713806],\n",
              " 'val_accuracy': [0.9941093325614929,\n",
              "  0.884255051612854,\n",
              "  0.9940153360366821,\n",
              "  0.9941093325614929,\n",
              "  0.9824220538139343,\n",
              "  0.9941406846046448,\n",
              "  0.9940780401229858,\n",
              "  0.9935140013694763,\n",
              "  0.9929186701774597,\n",
              "  0.9937959909439087],\n",
              " 'val_loss': [0.07042467594146729,\n",
              "  0.06795642524957657,\n",
              "  0.07353581488132477,\n",
              "  0.07493393123149872,\n",
              "  0.0706443190574646,\n",
              "  0.07303274422883987,\n",
              "  0.07453253120183945,\n",
              "  0.07375156879425049,\n",
              "  0.08905717730522156,\n",
              "  0.0932498648762703]}"
            ]
          },
          "metadata": {
            "tags": []
          },
          "execution_count": 38
        }
      ]
    },
    {
      "cell_type": "code",
      "metadata": {
        "id": "w7bv2j8u5Kgy",
        "colab_type": "code",
        "colab": {
          "base_uri": "https://localhost:8080/",
          "height": 265
        },
        "outputId": "6b014d2c-341e-42c5-8e9f-7f4ce9b431ab"
      },
      "source": [
        "# accuracies\n",
        "plt.plot(r.history['accuracy'], label='acc')\n",
        "plt.plot(r.history['val_accuracy'], label='val_acc')\n",
        "plt.legend()\n",
        "plt.show()"
      ],
      "execution_count": null,
      "outputs": [
        {
          "output_type": "display_data",
          "data": {
            "image/png": "[encoded data removed]",
            "text/plain": [
              "<Figure size 432x288 with 1 Axes>"
            ]
          },
          "metadata": {
            "tags": [],
            "needs_background": "light"
          }
        }
      ]
    },
    {
      "cell_type": "code",
      "metadata": {
        "id": "-I62bfmv4gcb",
        "colab_type": "code",
        "colab": {}
      },
      "source": [
        "p = model.predict(data)"
      ],
      "execution_count": null,
      "outputs": []
    },
    {
      "cell_type": "code",
      "metadata": {
        "id": "ja3sgVQb47Xa",
        "colab_type": "code",
        "colab": {
          "base_uri": "https://localhost:8080/",
          "height": 35
        },
        "outputId": "03049b86-1066-4fb3-8db6-c7f8923d4865"
      },
      "source": [
        "aucs = []\n",
        "for j in range(6):\n",
        "  \n",
        "  auc = roc_auc_score(targets[:,j],p[:,j])\n",
        "  aucs.append(auc)\n",
        "  \n",
        "print(np.mean(aucs))"
      ],
      "execution_count": null,
      "outputs": [
        {
          "output_type": "stream",
          "text": [
            "0.9758342158831982\n"
          ],
          "name": "stdout"
        }
      ]
    }
  ]
}