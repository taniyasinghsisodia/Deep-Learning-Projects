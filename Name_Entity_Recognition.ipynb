{
  "nbformat": 4,
  "nbformat_minor": 0,
  "metadata": {
    "colab": {
      "name": "Name  Entity Recognition.ipynb",
      "provenance": [],
      "collapsed_sections": []
    },
    "kernelspec": {
      "name": "python3",
      "display_name": "Python 3"
    }
  },
  "cells": [
    {
      "cell_type": "markdown",
      "metadata": {
        "id": "Hq8xs-wlBmO0"
      },
      "source": [
        "# **NER Using NLTK**"
      ]
    },
    {
      "cell_type": "code",
      "metadata": {
        "id": "BINfboLPqcO_"
      },
      "source": [
        "example_document = '''Google began in January 1996 as a research project by Larry Page and Sergey Brin when they were both PhD students at Stanford University in Stanford, California.'''"
      ],
      "execution_count": 1,
      "outputs": []
    },
    {
      "cell_type": "code",
      "metadata": {
        "id": "dLtIbPYJuAfe",
        "outputId": "29a8686e-e357-4008-e370-690d563a3957",
        "colab": {
          "base_uri": "https://localhost:8080/",
          "height": 219
        }
      },
      "source": [
        "import nltk\n",
        "nltk.download('punkt')\n",
        "nltk.download('averaged_perceptron_tagger')\n",
        "nltk.download('maxent_ne_chunker')\n",
        "nltk.download('words')"
      ],
      "execution_count": 2,
      "outputs": [
        {
          "output_type": "stream",
          "text": [
            "[nltk_data] Downloading package punkt to /root/nltk_data...\n",
            "[nltk_data]   Unzipping tokenizers/punkt.zip.\n",
            "[nltk_data] Downloading package averaged_perceptron_tagger to\n",
            "[nltk_data]     /root/nltk_data...\n",
            "[nltk_data]   Unzipping taggers/averaged_perceptron_tagger.zip.\n",
            "[nltk_data] Downloading package maxent_ne_chunker to\n",
            "[nltk_data]     /root/nltk_data...\n",
            "[nltk_data]   Unzipping chunkers/maxent_ne_chunker.zip.\n",
            "[nltk_data] Downloading package words to /root/nltk_data...\n",
            "[nltk_data]   Unzipping corpora/words.zip.\n"
          ],
          "name": "stdout"
        },
        {
          "output_type": "execute_result",
          "data": {
            "text/plain": [
              "True"
            ]
          },
          "metadata": {
            "tags": []
          },
          "execution_count": 2
        }
      ]
    },
    {
      "cell_type": "code",
      "metadata": {
        "id": "7r0uSb7LqwKF"
      },
      "source": [
        "def nltk_ner(document):\n",
        "  return {(' '.join(c[0] for c in chunk), chunk.label() ) for chunk in nltk.ne_chunk(nltk.pos_tag(nltk.word_tokenize(document))) if hasattr(chunk, 'label') }"
      ],
      "execution_count": 3,
      "outputs": []
    },
    {
      "cell_type": "code",
      "metadata": {
        "id": "zPfbUR4QueDe",
        "outputId": "532dc857-a2d6-4ec9-afbb-4c5f7f4d2f43",
        "colab": {
          "base_uri": "https://localhost:8080/",
          "height": 146
        }
      },
      "source": [
        "nltk_ner(example_document)"
      ],
      "execution_count": 4,
      "outputs": [
        {
          "output_type": "execute_result",
          "data": {
            "text/plain": [
              "{('California', 'GPE'),\n",
              " ('Google', 'PERSON'),\n",
              " ('Larry Page', 'PERSON'),\n",
              " ('PhD', 'ORGANIZATION'),\n",
              " ('Sergey Brin', 'PERSON'),\n",
              " ('Stanford', 'GPE'),\n",
              " ('Stanford University', 'ORGANIZATION')}"
            ]
          },
          "metadata": {
            "tags": []
          },
          "execution_count": 4
        }
      ]
    },
    {
      "cell_type": "markdown",
      "metadata": {
        "id": "_cG6Y-kF2BUS"
      },
      "source": [
        "# **NER Using Spacy**"
      ]
    },
    {
      "cell_type": "code",
      "metadata": {
        "id": "fgWeqHAYpd3y",
        "outputId": "efd9eedc-5739-4364-9393-79ebe076eeb8",
        "colab": {
          "base_uri": "https://localhost:8080/",
          "height": 625
        }
      },
      "source": [
        "!python3 -m spacy download en_core_web_lg"
      ],
      "execution_count": 5,
      "outputs": [
        {
          "output_type": "stream",
          "text": [
            "Collecting en_core_web_lg==2.2.5\n",
            "\u001b[?25l  Downloading https://github.com/explosion/spacy-models/releases/download/en_core_web_lg-2.2.5/en_core_web_lg-2.2.5.tar.gz (827.9MB)\n",
            "\u001b[K     |████████████████████████████████| 827.9MB 1.2MB/s \n",
            "\u001b[?25hRequirement already satisfied: spacy>=2.2.2 in /usr/local/lib/python3.6/dist-packages (from en_core_web_lg==2.2.5) (2.2.4)\n",
            "Requirement already satisfied: setuptools in /usr/local/lib/python3.6/dist-packages (from spacy>=2.2.2->en_core_web_lg==2.2.5) (50.3.0)\n",
            "Requirement already satisfied: requests<3.0.0,>=2.13.0 in /usr/local/lib/python3.6/dist-packages (from spacy>=2.2.2->en_core_web_lg==2.2.5) (2.23.0)\n",
            "Requirement already satisfied: plac<1.2.0,>=0.9.6 in /usr/local/lib/python3.6/dist-packages (from spacy>=2.2.2->en_core_web_lg==2.2.5) (1.1.3)\n",
            "Requirement already satisfied: cymem<2.1.0,>=2.0.2 in /usr/local/lib/python3.6/dist-packages (from spacy>=2.2.2->en_core_web_lg==2.2.5) (2.0.3)\n",
            "Requirement already satisfied: thinc==7.4.0 in /usr/local/lib/python3.6/dist-packages (from spacy>=2.2.2->en_core_web_lg==2.2.5) (7.4.0)\n",
            "Requirement already satisfied: catalogue<1.1.0,>=0.0.7 in /usr/local/lib/python3.6/dist-packages (from spacy>=2.2.2->en_core_web_lg==2.2.5) (1.0.0)\n",
            "Requirement already satisfied: numpy>=1.15.0 in /usr/local/lib/python3.6/dist-packages (from spacy>=2.2.2->en_core_web_lg==2.2.5) (1.18.5)\n",
            "Requirement already satisfied: blis<0.5.0,>=0.4.0 in /usr/local/lib/python3.6/dist-packages (from spacy>=2.2.2->en_core_web_lg==2.2.5) (0.4.1)\n",
            "Requirement already satisfied: preshed<3.1.0,>=3.0.2 in /usr/local/lib/python3.6/dist-packages (from spacy>=2.2.2->en_core_web_lg==2.2.5) (3.0.2)\n",
            "Requirement already satisfied: murmurhash<1.1.0,>=0.28.0 in /usr/local/lib/python3.6/dist-packages (from spacy>=2.2.2->en_core_web_lg==2.2.5) (1.0.2)\n",
            "Requirement already satisfied: srsly<1.1.0,>=1.0.2 in /usr/local/lib/python3.6/dist-packages (from spacy>=2.2.2->en_core_web_lg==2.2.5) (1.0.2)\n",
            "Requirement already satisfied: wasabi<1.1.0,>=0.4.0 in /usr/local/lib/python3.6/dist-packages (from spacy>=2.2.2->en_core_web_lg==2.2.5) (0.8.0)\n",
            "Requirement already satisfied: tqdm<5.0.0,>=4.38.0 in /usr/local/lib/python3.6/dist-packages (from spacy>=2.2.2->en_core_web_lg==2.2.5) (4.41.1)\n",
            "Requirement already satisfied: idna<3,>=2.5 in /usr/local/lib/python3.6/dist-packages (from requests<3.0.0,>=2.13.0->spacy>=2.2.2->en_core_web_lg==2.2.5) (2.10)\n",
            "Requirement already satisfied: urllib3!=1.25.0,!=1.25.1,<1.26,>=1.21.1 in /usr/local/lib/python3.6/dist-packages (from requests<3.0.0,>=2.13.0->spacy>=2.2.2->en_core_web_lg==2.2.5) (1.24.3)\n",
            "Requirement already satisfied: chardet<4,>=3.0.2 in /usr/local/lib/python3.6/dist-packages (from requests<3.0.0,>=2.13.0->spacy>=2.2.2->en_core_web_lg==2.2.5) (3.0.4)\n",
            "Requirement already satisfied: certifi>=2017.4.17 in /usr/local/lib/python3.6/dist-packages (from requests<3.0.0,>=2.13.0->spacy>=2.2.2->en_core_web_lg==2.2.5) (2020.6.20)\n",
            "Requirement already satisfied: importlib-metadata>=0.20; python_version < \"3.8\" in /usr/local/lib/python3.6/dist-packages (from catalogue<1.1.0,>=0.0.7->spacy>=2.2.2->en_core_web_lg==2.2.5) (2.0.0)\n",
            "Requirement already satisfied: zipp>=0.5 in /usr/local/lib/python3.6/dist-packages (from importlib-metadata>=0.20; python_version < \"3.8\"->catalogue<1.1.0,>=0.0.7->spacy>=2.2.2->en_core_web_lg==2.2.5) (3.2.0)\n",
            "Building wheels for collected packages: en-core-web-lg\n",
            "  Building wheel for en-core-web-lg (setup.py) ... \u001b[?25l\u001b[?25hdone\n",
            "  Created wheel for en-core-web-lg: filename=en_core_web_lg-2.2.5-cp36-none-any.whl size=829180944 sha256=f1387185a3c0165e642ea01fe6d6aed9882914f0e1f578899bf4970d34197f91\n",
            "  Stored in directory: /tmp/pip-ephem-wheel-cache-oo2x31wk/wheels/2a/c1/a6/fc7a877b1efca9bc6a089d6f506f16d3868408f9ff89f8dbfc\n",
            "Successfully built en-core-web-lg\n",
            "Installing collected packages: en-core-web-lg\n",
            "Successfully installed en-core-web-lg-2.2.5\n",
            "\u001b[38;5;2m✔ Download and installation successful\u001b[0m\n",
            "You can now load the model via spacy.load('en_core_web_lg')\n"
          ],
          "name": "stdout"
        }
      ]
    },
    {
      "cell_type": "code",
      "metadata": {
        "id": "8nHNmH8hvx9G"
      },
      "source": [
        "import spacy\n",
        "sp_lg = spacy.load(\"en_core_web_sm\")"
      ],
      "execution_count": 6,
      "outputs": []
    },
    {
      "cell_type": "code",
      "metadata": {
        "id": "ghnQyFifqqeX"
      },
      "source": [
        "def spacy_large_ner(document):\n",
        "  return {(ent.text.strip(), ent.label_) for ent in sp_lg(document).ents}"
      ],
      "execution_count": 7,
      "outputs": []
    },
    {
      "cell_type": "code",
      "metadata": {
        "id": "HSSFSJvVyxOX",
        "outputId": "9ac976e9-5f7a-46ea-cba5-0c81ecccce82",
        "colab": {
          "base_uri": "https://localhost:8080/",
          "height": 164
        }
      },
      "source": [
        "spacy_large_ner(example_document)"
      ],
      "execution_count": 8,
      "outputs": [
        {
          "output_type": "execute_result",
          "data": {
            "text/plain": [
              "{('California', 'GPE'),\n",
              " ('Google', 'ORG'),\n",
              " ('January 1996', 'DATE'),\n",
              " ('Larry Page', 'PERSON'),\n",
              " ('PhD', 'WORK_OF_ART'),\n",
              " ('Sergey Brin', 'PERSON'),\n",
              " ('Stanford', 'GPE'),\n",
              " ('Stanford University', 'ORG')}"
            ]
          },
          "metadata": {
            "tags": []
          },
          "execution_count": 8
        }
      ]
    },
    {
      "cell_type": "markdown",
      "metadata": {
        "id": "HBqxcYavqoah"
      },
      "source": [
        "# **NER with Standford Core NLP**"
      ]
    },
    {
      "cell_type": "code",
      "metadata": {
        "id": "U6in8psMKLMs",
        "outputId": "78336619-6dba-4c71-ed9f-82a4c4952573",
        "colab": {
          "base_uri": "https://localhost:8080/",
          "height": 364
        }
      },
      "source": [
        "!pip3 install nltk==3.2.4"
      ],
      "execution_count": 9,
      "outputs": [
        {
          "output_type": "stream",
          "text": [
            "Collecting nltk==3.2.4\n",
            "\u001b[?25l  Downloading https://files.pythonhosted.org/packages/cd/c2/858e0708b497116ae45cf5c6b1f66984ac60729c61e49df6c1c0b808d1e4/nltk-3.2.4.tar.gz (1.2MB)\n",
            "\u001b[K     |████████████████████████████████| 1.2MB 2.8MB/s \n",
            "\u001b[?25hRequirement already satisfied: six in /usr/local/lib/python3.6/dist-packages (from nltk==3.2.4) (1.15.0)\n",
            "Building wheels for collected packages: nltk\n",
            "  Building wheel for nltk (setup.py) ... \u001b[?25l\u001b[?25hdone\n",
            "  Created wheel for nltk: filename=nltk-3.2.4-cp36-none-any.whl size=1367704 sha256=7beaf305778e1cb56e049374b1392f29a2863bd9eff3a4ce5101339b5c937747\n",
            "  Stored in directory: /root/.cache/pip/wheels/36/f1/5c/f667347d86a3a534ba4c0127eed4389f929916e3ec88bb461a\n",
            "Successfully built nltk\n",
            "Installing collected packages: nltk\n",
            "  Found existing installation: nltk 3.2.5\n",
            "    Uninstalling nltk-3.2.5:\n",
            "      Successfully uninstalled nltk-3.2.5\n",
            "Successfully installed nltk-3.2.4\n"
          ],
          "name": "stdout"
        },
        {
          "output_type": "display_data",
          "data": {
            "application/vnd.colab-display-data+json": {
              "pip_warning": {
                "packages": [
                  "nltk"
                ]
              }
            }
          },
          "metadata": {
            "tags": []
          }
        }
      ]
    },
    {
      "cell_type": "code",
      "metadata": {
        "id": "W8w7LLsyKAYU",
        "outputId": "e8250c75-fd3a-48bc-af2c-a990f2efcfe6",
        "colab": {
          "base_uri": "https://localhost:8080/",
          "height": 880
        }
      },
      "source": [
        "!wget http://nlp.stanford.edu/software/stanford-ner-2015-04-20.zip\n",
        "!unzip stanford-ner-2015-04-20.zip "
      ],
      "execution_count": 10,
      "outputs": [
        {
          "output_type": "stream",
          "text": [
            "--2020-10-16 06:26:53--  http://nlp.stanford.edu/software/stanford-ner-2015-04-20.zip\n",
            "Resolving nlp.stanford.edu (nlp.stanford.edu)... 171.64.67.140\n",
            "Connecting to nlp.stanford.edu (nlp.stanford.edu)|171.64.67.140|:80... connected.\n",
            "HTTP request sent, awaiting response... 302 Found\n",
            "Location: https://nlp.stanford.edu/software/stanford-ner-2015-04-20.zip [following]\n",
            "--2020-10-16 06:26:54--  https://nlp.stanford.edu/software/stanford-ner-2015-04-20.zip\n",
            "Connecting to nlp.stanford.edu (nlp.stanford.edu)|171.64.67.140|:443... connected.\n",
            "HTTP request sent, awaiting response... 200 OK\n",
            "Length: 176961718 (169M) [application/zip]\n",
            "Saving to: ‘stanford-ner-2015-04-20.zip’\n",
            "\n",
            "stanford-ner-2015-0 100%[===================>] 168.76M  7.25MB/s    in 23s     \n",
            "\n",
            "2020-10-16 06:27:17 (7.32 MB/s) - ‘stanford-ner-2015-04-20.zip’ saved [176961718/176961718]\n",
            "\n",
            "Archive:  stanford-ner-2015-04-20.zip\n",
            "   creating: stanford-ner-2015-04-20/\n",
            "  inflating: stanford-ner-2015-04-20/README.txt  \n",
            "  inflating: stanford-ner-2015-04-20/ner-gui.bat  \n",
            "  inflating: stanford-ner-2015-04-20/build.xml  \n",
            "  inflating: stanford-ner-2015-04-20/stanford-ner-3.5.2.jar  \n",
            "  inflating: stanford-ner-2015-04-20/stanford-ner.jar  \n",
            "  inflating: stanford-ner-2015-04-20/sample-conll-file.txt  \n",
            "  inflating: stanford-ner-2015-04-20/sample.ner.txt  \n",
            "   creating: stanford-ner-2015-04-20/lib/\n",
            "  inflating: stanford-ner-2015-04-20/lib/jollyday-0.4.7.jar  \n",
            "  inflating: stanford-ner-2015-04-20/lib/joda-time.jar  \n",
            "  inflating: stanford-ner-2015-04-20/lib/stanford-ner-resources.jar  \n",
            "  inflating: stanford-ner-2015-04-20/ner-gui.command  \n",
            "  inflating: stanford-ner-2015-04-20/ner.sh  \n",
            "  inflating: stanford-ner-2015-04-20/NERDemo.java  \n",
            "  inflating: stanford-ner-2015-04-20/ner.bat  \n",
            "  inflating: stanford-ner-2015-04-20/stanford-ner-3.5.2-javadoc.jar  \n",
            "   creating: stanford-ner-2015-04-20/classifiers/\n",
            "  inflating: stanford-ner-2015-04-20/classifiers/english.conll.4class.distsim.prop  \n",
            "  inflating: stanford-ner-2015-04-20/classifiers/example.serialized.ncc.ncc.ser.gz  \n",
            "  inflating: stanford-ner-2015-04-20/classifiers/english.muc.7class.distsim.crf.ser.gz  \n",
            "  inflating: stanford-ner-2015-04-20/classifiers/english.conll.4class.distsim.crf.ser.gz  \n",
            "  inflating: stanford-ner-2015-04-20/classifiers/english.muc.7class.distsim.prop  \n",
            "  inflating: stanford-ner-2015-04-20/classifiers/english.all.3class.distsim.prop  \n",
            "  inflating: stanford-ner-2015-04-20/classifiers/example.serialized.ncc.prop  \n",
            "  inflating: stanford-ner-2015-04-20/classifiers/english.all.3class.distsim.crf.ser.gz  \n",
            "  inflating: stanford-ner-2015-04-20/stanford-ner-3.5.2-sources.jar  \n",
            "  inflating: stanford-ner-2015-04-20/sample.txt  \n",
            "  inflating: stanford-ner-2015-04-20/sample-w-time.txt  \n",
            "  inflating: stanford-ner-2015-04-20/ner-gui.sh  \n",
            "  inflating: stanford-ner-2015-04-20/LICENSE.txt  \n"
          ],
          "name": "stdout"
        }
      ]
    },
    {
      "cell_type": "code",
      "metadata": {
        "id": "NSfCCO9PKQ27",
        "outputId": "efcb4de4-e116-4f7d-9fa7-05a4ce99d667",
        "colab": {
          "base_uri": "https://localhost:8080/",
          "height": 237
        }
      },
      "source": [
        "from nltk.tag.stanford import StanfordNERTagger\n",
        "jar = \"stanford-ner-2015-04-20/stanford-ner-3.5.2.jar\"\n",
        "model = \"stanford-ner-2015-04-20/classifiers/\" \n",
        "st_3class = StanfordNERTagger(model + \"english.all.3class.distsim.crf.ser.gz\", jar, encoding='utf8') \n",
        "st_4class = StanfordNERTagger(model + \"english.conll.4class.distsim.crf.ser.gz\", jar, encoding='utf8') \n",
        "st_7class = StanfordNERTagger(model + \"english.muc.7class.distsim.crf.ser.gz\", jar, encoding='utf8') "
      ],
      "execution_count": 11,
      "outputs": [
        {
          "output_type": "stream",
          "text": [
            "/usr/local/lib/python3.6/dist-packages/nltk/tag/stanford.py:183: DeprecationWarning: \n",
            "The StanfordTokenizer will be deprecated in version 3.2.5.\n",
            "Please use \u001b[91mnltk.tag.corenlp.CoreNLPPOSTagger\u001b[0m or \u001b[91mnltk.tag.corenlp.CoreNLPNERTagger\u001b[0m instead.\n",
            "  '-tokenizerFactory',\n",
            "/usr/local/lib/python3.6/dist-packages/nltk/tag/stanford.py:183: DeprecationWarning: \n",
            "The StanfordTokenizer will be deprecated in version 3.2.5.\n",
            "Please use \u001b[91mnltk.tag.corenlp.CoreNLPPOSTagger\u001b[0m or \u001b[91mnltk.tag.corenlp.CoreNLPNERTagger\u001b[0m instead.\n",
            "  '-tokenizerFactory',\n",
            "/usr/local/lib/python3.6/dist-packages/nltk/tag/stanford.py:183: DeprecationWarning: \n",
            "The StanfordTokenizer will be deprecated in version 3.2.5.\n",
            "Please use \u001b[91mnltk.tag.corenlp.CoreNLPPOSTagger\u001b[0m or \u001b[91mnltk.tag.corenlp.CoreNLPNERTagger\u001b[0m instead.\n",
            "  '-tokenizerFactory',\n"
          ],
          "name": "stderr"
        }
      ]
    },
    {
      "cell_type": "code",
      "metadata": {
        "id": "RYow2ZnRKURv"
      },
      "source": [
        "def stanford_ner(document,model):\n",
        "  if model == 1:\n",
        "    return [(entity,tag) for entity,tag in st_3class.tag(document.split()) if tag != \"O\"]\n",
        "  elif model == 2:\n",
        "    return [(entity,tag) for entity,tag in st_4class.tag(document.split()) if tag != \"O\"]\n",
        "  elif model == 3:\n",
        "    return [(entity,tag) for entity,tag in st_7class.tag(document.split()) if tag != \"O\"]"
      ],
      "execution_count": 12,
      "outputs": []
    },
    {
      "cell_type": "code",
      "metadata": {
        "id": "F3tqJYjGKaaP",
        "outputId": "2630d7b6-00c6-4ca5-dadd-f9af265e8568",
        "colab": {
          "base_uri": "https://localhost:8080/",
          "height": 182
        }
      },
      "source": [
        "stanford_ner(example_document,model=1)"
      ],
      "execution_count": 13,
      "outputs": [
        {
          "output_type": "execute_result",
          "data": {
            "text/plain": [
              "[('Google', 'ORGANIZATION'),\n",
              " ('Larry', 'PERSON'),\n",
              " ('Page', 'PERSON'),\n",
              " ('Sergey', 'PERSON'),\n",
              " ('Brin', 'PERSON'),\n",
              " ('Stanford', 'ORGANIZATION'),\n",
              " ('University', 'ORGANIZATION'),\n",
              " ('Stanford,', 'LOCATION'),\n",
              " ('California.', 'LOCATION')]"
            ]
          },
          "metadata": {
            "tags": []
          },
          "execution_count": 13
        }
      ]
    },
    {
      "cell_type": "code",
      "metadata": {
        "id": "VkPAFGdEOMrl",
        "outputId": "32f9da85-89ae-4135-a800-d1a7e34d2be2",
        "colab": {
          "base_uri": "https://localhost:8080/",
          "height": 146
        }
      },
      "source": [
        "stanford_ner(example_document,model=2)"
      ],
      "execution_count": 14,
      "outputs": [
        {
          "output_type": "execute_result",
          "data": {
            "text/plain": [
              "[('Google', 'ORGANIZATION'),\n",
              " ('Larry', 'PERSON'),\n",
              " ('Page', 'PERSON'),\n",
              " ('Sergey', 'PERSON'),\n",
              " ('Brin', 'PERSON'),\n",
              " ('Stanford', 'ORGANIZATION'),\n",
              " ('University', 'ORGANIZATION')]"
            ]
          },
          "metadata": {
            "tags": []
          },
          "execution_count": 14
        }
      ]
    },
    {
      "cell_type": "code",
      "metadata": {
        "id": "12cZITULOQ6u",
        "outputId": "86aa305e-7201-4d2a-9ade-2c63d95426ba",
        "colab": {
          "base_uri": "https://localhost:8080/",
          "height": 201
        }
      },
      "source": [
        "stanford_ner(example_document,model=3)"
      ],
      "execution_count": 15,
      "outputs": [
        {
          "output_type": "execute_result",
          "data": {
            "text/plain": [
              "[('January', 'DATE'),\n",
              " ('1996', 'DATE'),\n",
              " ('Larry', 'PERSON'),\n",
              " ('Page', 'PERSON'),\n",
              " ('Sergey', 'PERSON'),\n",
              " ('Brin', 'PERSON'),\n",
              " ('Stanford', 'ORGANIZATION'),\n",
              " ('University', 'ORGANIZATION'),\n",
              " ('Stanford,', 'LOCATION'),\n",
              " ('California.', 'LOCATION')]"
            ]
          },
          "metadata": {
            "tags": []
          },
          "execution_count": 15
        }
      ]
    }
  ]
}